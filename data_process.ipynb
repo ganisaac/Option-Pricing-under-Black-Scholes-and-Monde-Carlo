{
 "cells": [
  {
   "cell_type": "markdown",
   "metadata": {},
   "source": [
    "## Installation de packages et importation"
   ]
  },
  {
   "cell_type": "code",
   "execution_count": null,
   "metadata": {},
   "outputs": [],
   "source": [
    "!pip install -r requirements.txt"
   ]
  },
  {
   "cell_type": "code",
   "execution_count": null,
   "metadata": {},
   "outputs": [],
   "source": [
    "pip install yahoo_fin"
   ]
  },
  {
   "cell_type": "code",
   "execution_count": null,
   "metadata": {},
   "outputs": [],
   "source": [
    "import html5lib \n",
    "import requests_html\n",
    "import datetime\n",
    "import feedparser\n",
    "import io\n",
    "import json\n",
    "import pandas\n",
    "import requests\n",
    "import requests_html\n",
    "import html5lib \n",
    "import pandas as pd\n",
    "import numpy as np\n",
    "from yahoo_fin import options\n",
    "from yahoo_fin.stock_info import get_data\n",
    "from datetime import datetime"
   ]
  },
  {
   "cell_type": "markdown",
   "metadata": {},
   "source": [
    "## Téléchargement et premiers traitements sur les données d'options"
   ]
  },
  {
   "cell_type": "code",
   "execution_count": null,
   "metadata": {},
   "outputs": [],
   "source": [
    "\n",
    "tickers= ['aapl', 'amzn', 'tsla', 'googl', 'meta', 'msft', 'sony', 'baba']\n",
    "def get_options_price(ticker):\n",
    "    \"\"\" \n",
    "    Enregistre un fichier csv contenant les données d'options de sous jacent le ticker spécifié\n",
    "    ticker: str\n",
    "    \"\"\"\n",
    "    ListOptions = []\n",
    "    dates = options.get_expiration_dates(ticker)\n",
    "    for date in dates :\n",
    "        data= options.get_options_chain(date = date, ticker=ticker)\n",
    "        dataDict = {'Call' : data[\"calls\"], 'Put' : data[\"puts\"]}\n",
    "        for typ, data in dataDict.items():\n",
    "            data[\"Type\"] = typ\n",
    "            data[\"Maturity\"] = date\n",
    "            ListOptions.append(data)\n",
    "    list_name = 'ListAllOptions'+ticker+'.csv'\n",
    "    ListAllOptions = pd.concat(ListOptions)\n",
    "    ListAllOptions.to_csv(list_name, index=False)"
   ]
  },
  {
   "cell_type": "code",
   "execution_count": null,
   "metadata": {},
   "outputs": [],
   "source": [
    "for ticker in tickers:\n",
    "    get_options_price(ticker)"
   ]
  },
  {
   "cell_type": "code",
   "execution_count": null,
   "metadata": {},
   "outputs": [],
   "source": [
    "for ticker in tickers:\n",
    "    name = \"ListAllOptions\"+ticker+\".csv\"\n",
    "    ListAllOptions = pd.read_csv(name)\n",
    "    ListAllOptions['Volume'] = ListAllOptions['Volume'].replace('-',0).astype('float')\n",
    "    ListAllOptions['Strike'] = ListAllOptions['Strike'].astype('float')\n",
    "    ListAllOptions['Last Price'] = ListAllOptions['Last Price'].astype('float')\n",
    "    ListAllOptions['Bid'] = ListAllOptions['Bid'].astype('float')\n",
    "    ListAllOptions['Ask'] = ListAllOptions['Ask'].astype('float')\n",
    "    ListAllOptions['Maturity'] = pd.to_datetime(ListAllOptions['Maturity'], format='%B %d, %Y')\n",
    "    ListAllOptions['index'] = range(0,len(ListAllOptions))\n",
    "\n",
    "    # Keep one of the call or the put regarding which one have more transactions\n",
    "    index_to_keep = []\n",
    "\n",
    "    for date in ListAllOptions['Maturity']:\n",
    "        date_data = ListAllOptions[ListAllOptions['Maturity']==date]\n",
    "        for strike in date_data['Strike']:\n",
    "            ds_data = date_data[date_data['Strike']== strike]\n",
    "            volume = list(ds_data['Volume'])\n",
    "            index = list(ds_data['index'])\n",
    "            max_volume = max(volume)\n",
    "            index_to_keep.append(index[volume.index(max_volume)])\n",
    "    index_to_keep = np.unique(index_to_keep)\n",
    "\n",
    "    # Retirer les options non liquides : Nous considérons arbitrairement qu'une \n",
    "    # option n'est pas liquide lorsque son volume de transactions est inférieure à la\n",
    "    # médiane des transactions (qui est généralement de l'ordre de la dizaine)\n",
    "    volume = ListAllOptions['Volume']\n",
    "    median_volume = np.median(volume)\n",
    "    ListAllOptions = ListAllOptions[ListAllOptions['Volume']>=median_volume]\n",
    "\n",
    "    list_name = 'cleaned_ListAllOptions'+ticker+'.csv'\n",
    "    ListAllOptions.to_csv(list_name, index=False)"
   ]
  },
  {
   "cell_type": "markdown",
   "metadata": {},
   "source": [
    "## Téléchargement d'historisque de cours d'actions pour le calcul de la volatilité historique"
   ]
  },
  {
   "cell_type": "code",
   "execution_count": null,
   "metadata": {},
   "outputs": [],
   "source": [
    "def get_stock_prices(ticker) :\n",
    "    \"\"\" \n",
    "    Enregistre un fichier csv contenant l'historique des cours du ticker spécifié, avec comme date de départ le 01/01/2021 (après le covid)\n",
    "    ticker: str\n",
    "    \"\"\"\n",
    "    data = get_data(ticker, start_date = '01/01/2021')\n",
    "    if ticker == 'aapl':\n",
    "        name = 'APPLE'\n",
    "    elif ticker==\"amzn\":\n",
    "        name=\"AMAZON\"\n",
    "    elif ticker==\"baba\":\n",
    "        name=\"ALI BABA\"\n",
    "    elif ticker==\"googl\":\n",
    "        name=\"GOOGLE\"\n",
    "    elif ticker==\"meta\":\n",
    "        name=\"META\"\n",
    "    elif ticker==\"msft\":\n",
    "        name=\"MICROSOFT\"\n",
    "    elif ticker==\"sony\":\n",
    "        name=\"SONY\"\n",
    "    elif ticker==\"tsla\":\n",
    "        name=\"TESLA\"\n",
    "    data = data[['close']]\n",
    "    data_name = f'StockPrices{name}.csv'\n",
    "    data.to_csv(f'C:/Users/HP/Documents/GitHub/asset-pricing/src/data/{data_name}')"
   ]
  },
  {
   "cell_type": "code",
   "execution_count": null,
   "metadata": {},
   "outputs": [],
   "source": [
    "for ticker in tickers:\n",
    "    get_stock_prices(ticker)"
   ]
  }
 ],
 "metadata": {
  "kernelspec": {
   "display_name": "Python 3.10.5 64-bit",
   "language": "python",
   "name": "python3"
  },
  "language_info": {
   "name": "python",
   "version": "3.10.5"
  },
  "orig_nbformat": 4,
  "vscode": {
   "interpreter": {
    "hash": "a9cff5a362bc38ef45d817ae74b1af54d6a076e3d773891282bce078b815ba34"
   }
  }
 },
 "nbformat": 4,
 "nbformat_minor": 2
}
